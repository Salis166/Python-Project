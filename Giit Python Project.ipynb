{
 "cells": [
  {
   "cell_type": "code",
   "execution_count": 182,
   "id": "d1434f26-1d45-4da3-94c7-605bcbf3e27d",
   "metadata": {},
   "outputs": [
    {
     "name": "stdout",
     "output_type": "stream",
     "text": [
      "     Product ID Product Name Product Category Product Description   Price  \\\n",
      "0      93TGNAY7       Laptop  Home Appliances       Product_XU5QX  253.17   \n",
      "1      TYYZ5AV7   Smartphone         Clothing       Product_NRUMS  214.37   \n",
      "2      5C94FGTQ   Headphones         Clothing       Product_IT7HG  475.29   \n",
      "3      XBHKYPQB      Monitor         Clothing       Product_8SBDO  403.33   \n",
      "4      728GCZFU       Laptop  Home Appliances       Product_54FAF  229.81   \n",
      "...         ...          ...              ...                 ...     ...   \n",
      "9995   J29B6RDI   Headphones         Clothing       Product_NI8C7   21.48   \n",
      "9996   L1HL7437       Laptop         Clothing       Product_8RR6T  403.92   \n",
      "9997   FD57S4E1       Laptop  Home Appliances       Product_GYAWW  484.46   \n",
      "9998   RPYLOB1M   Headphones         Clothing       Product_K3M9M  411.63   \n",
      "9999   3JWTGTOM       Laptop         Clothing       Product_I0ACF   74.38   \n",
      "\n",
      "      Stock Quantity  Warranty Period Product Dimensions Manufacturing Date  \\\n",
      "0                  3                2        16x15x15 cm         2023-01-01   \n",
      "1                 92                2        15x19x19 cm         2023-03-15   \n",
      "2                 19                2           9x6x6 cm         2023-03-15   \n",
      "3                 40                1          7x13x5 cm         2023-01-01   \n",
      "4                 32                2        20x20x19 cm         2023-07-30   \n",
      "...              ...              ...                ...                ...   \n",
      "9995              91                3         10x16x9 cm         2023-03-15   \n",
      "9996              19                2          13x8x5 cm         2023-01-01   \n",
      "9997              13                2         5x15x15 cm         2023-01-01   \n",
      "9998              79                1        17x11x17 cm         2023-07-30   \n",
      "9999              81                1          6x6x16 cm         2023-01-01   \n",
      "\n",
      "     Expiration Date     SKU Product Tags Color/Size Variations  \\\n",
      "0         2026-01-01  8NMFZ4      VNU,NZ6           Green/Large   \n",
      "1         2025-01-01  7P5YCW      ZJA,0D3             Red/Small   \n",
      "2         2026-01-01  YW5BME      ZNG,MAP             Red/Small   \n",
      "3         2026-01-01  65MQC3      RPP,M40           Green/Large   \n",
      "4         2026-01-01  RLCBRW      R8U,X46           Blue/Medium   \n",
      "...              ...     ...          ...                   ...   \n",
      "9995      2026-01-01  0IQPXX      M81,8WN           Blue/Medium   \n",
      "9996      2024-01-01  HW1HV1      0UM,L4B             Red/Small   \n",
      "9997      2024-01-01  MKJ0UW      GO4,EZE             Red/Small   \n",
      "9998      2026-01-01  INSC1B      0QB,U55             Red/Small   \n",
      "9999      2025-01-01  UH0U3R      C5R,TZN           Blue/Medium   \n",
      "\n",
      "      Product Ratings  \n",
      "0                   2  \n",
      "1                   2  \n",
      "2                   1  \n",
      "3                   1  \n",
      "4                   4  \n",
      "...               ...  \n",
      "9995                1  \n",
      "9996                4  \n",
      "9997                1  \n",
      "9998                1  \n",
      "9999                1  \n",
      "\n",
      "[10000 rows x 14 columns]\n"
     ]
    }
   ],
   "source": [
    "import numpy as np\n",
    "import pandas as pd\n",
    "python_project = pd.read_csv(\"products.csv\")\n",
    "print(python_project)"
   ]
  },
  {
   "cell_type": "code",
   "execution_count": 106,
   "id": "baf0d8ec-6d8f-4680-b4b6-1b8eeee4316f",
   "metadata": {},
   "outputs": [
    {
     "name": "stdout",
     "output_type": "stream",
     "text": [
      "     Product ID Product Name Product Category Product Description   Price  \\\n",
      "0      93TGNAY7       Laptop  Home Appliances       Product_XU5QX  253.17   \n",
      "1      TYYZ5AV7   Smartphone         Clothing       Product_NRUMS  214.37   \n",
      "2      5C94FGTQ   Headphones         Clothing       Product_IT7HG  475.29   \n",
      "3      XBHKYPQB      Monitor         Clothing       Product_8SBDO  403.33   \n",
      "4      728GCZFU       Laptop  Home Appliances       Product_54FAF  229.81   \n",
      "...         ...          ...              ...                 ...     ...   \n",
      "9995   J29B6RDI   Headphones         Clothing       Product_NI8C7   21.48   \n",
      "9996   L1HL7437       Laptop         Clothing       Product_8RR6T  403.92   \n",
      "9997   FD57S4E1       Laptop  Home Appliances       Product_GYAWW  484.46   \n",
      "9998   RPYLOB1M   Headphones         Clothing       Product_K3M9M  411.63   \n",
      "9999   3JWTGTOM       Laptop         Clothing       Product_I0ACF   74.38   \n",
      "\n",
      "      Stock Quantity  Warranty Period Product Dimensions Manufacturing Date  \\\n",
      "0                  3                2        16x15x15 cm         2023-01-01   \n",
      "1                 92                2        15x19x19 cm         2023-03-15   \n",
      "2                 19                2           9x6x6 cm         2023-03-15   \n",
      "3                 40                1          7x13x5 cm         2023-01-01   \n",
      "4                 32                2        20x20x19 cm         2023-07-30   \n",
      "...              ...              ...                ...                ...   \n",
      "9995              91                3         10x16x9 cm         2023-03-15   \n",
      "9996              19                2          13x8x5 cm         2023-01-01   \n",
      "9997              13                2         5x15x15 cm         2023-01-01   \n",
      "9998              79                1        17x11x17 cm         2023-07-30   \n",
      "9999              81                1          6x6x16 cm         2023-01-01   \n",
      "\n",
      "     Expiration Date     SKU Product Tags Color/Size Variations  \\\n",
      "0         2026-01-01  8NMFZ4      VNU,NZ6           Green/Large   \n",
      "1         2025-01-01  7P5YCW      ZJA,0D3             Red/Small   \n",
      "2         2026-01-01  YW5BME      ZNG,MAP             Red/Small   \n",
      "3         2026-01-01  65MQC3      RPP,M40           Green/Large   \n",
      "4         2026-01-01  RLCBRW      R8U,X46           Blue/Medium   \n",
      "...              ...     ...          ...                   ...   \n",
      "9995      2026-01-01  0IQPXX      M81,8WN           Blue/Medium   \n",
      "9996      2024-01-01  HW1HV1      0UM,L4B             Red/Small   \n",
      "9997      2024-01-01  MKJ0UW      GO4,EZE             Red/Small   \n",
      "9998      2026-01-01  INSC1B      0QB,U55             Red/Small   \n",
      "9999      2025-01-01  UH0U3R      C5R,TZN           Blue/Medium   \n",
      "\n",
      "      Product Ratings  \n",
      "0                   2  \n",
      "1                   2  \n",
      "2                   1  \n",
      "3                   1  \n",
      "4                   4  \n",
      "...               ...  \n",
      "9995                1  \n",
      "9996                4  \n",
      "9997                1  \n",
      "9998                1  \n",
      "9999                1  \n",
      "\n",
      "[10000 rows x 14 columns]\n"
     ]
    }
   ],
   "source": [
    "python = python_project.dropna()\n",
    "print(python)"
   ]
  },
  {
   "cell_type": "code",
   "execution_count": 108,
   "id": "ac6b6166-4c5f-496f-bb63-a2de49d8bc7d",
   "metadata": {},
   "outputs": [
    {
     "data": {
      "text/plain": [
       "0       False\n",
       "1       False\n",
       "2       False\n",
       "3       False\n",
       "4       False\n",
       "        ...  \n",
       "9995    False\n",
       "9996    False\n",
       "9997    False\n",
       "9998    False\n",
       "9999    False\n",
       "Length: 10000, dtype: bool"
      ]
     },
     "execution_count": 108,
     "metadata": {},
     "output_type": "execute_result"
    }
   ],
   "source": [
    "duplicate = python.duplicated()\n",
    "duplicate"
   ]
  },
  {
   "cell_type": "code",
   "execution_count": 110,
   "id": "1e6550e7-6a84-48ac-ba96-131556610cb9",
   "metadata": {},
   "outputs": [
    {
     "name": "stdout",
     "output_type": "stream",
     "text": [
      "<class 'pandas.core.series.Series'>\n",
      "RangeIndex: 10000 entries, 0 to 9999\n",
      "Series name: None\n",
      "Non-Null Count  Dtype\n",
      "--------------  -----\n",
      "10000 non-null  bool \n",
      "dtypes: bool(1)\n",
      "memory usage: 9.9 KB\n"
     ]
    }
   ],
   "source": [
    "info = duplicate.info()\n",
    "info"
   ]
  },
  {
   "cell_type": "code",
   "execution_count": 112,
   "id": "e5b484ec-5c1a-4cda-a654-1a25f8b4ada1",
   "metadata": {},
   "outputs": [
    {
     "data": {
      "text/plain": [
       "Product ID                object\n",
       "Product Name              object\n",
       "Product Category          object\n",
       "Product Description       object\n",
       "Price                    float64\n",
       "Stock Quantity             int64\n",
       "Warranty Period            int64\n",
       "Product Dimensions        object\n",
       "Manufacturing Date        object\n",
       "Expiration Date           object\n",
       "SKU                       object\n",
       "Product Tags              object\n",
       "Color/Size Variations     object\n",
       "Product Ratings            int64\n",
       "dtype: object"
      ]
     },
     "execution_count": 112,
     "metadata": {},
     "output_type": "execute_result"
    }
   ],
   "source": [
    "data_types = python.dtypes\n",
    "data_types"
   ]
  },
  {
   "cell_type": "code",
   "execution_count": 114,
   "id": "c5e470de-28c2-4ec5-8a93-cd85b6681562",
   "metadata": {},
   "outputs": [
    {
     "data": {
      "text/plain": [
       "Index(['Electronics', 'Clothing', 'Home Appliances'], dtype='object', name='Product Category')"
      ]
     },
     "execution_count": 114,
     "metadata": {},
     "output_type": "execute_result"
    }
   ],
   "source": [
    "# Category Analysis\n",
    "# Identify the most common product categories\n",
    "category = python['Product Category'].value_counts().head(10).index\n",
    "category\n"
   ]
  },
  {
   "cell_type": "code",
   "execution_count": 124,
   "id": "864073ef-8922-476c-9462-8e9291467632",
   "metadata": {},
   "outputs": [
    {
     "name": "stdout",
     "output_type": "stream",
     "text": [
      "  Product Name Product Category\n",
      "0       Laptop  Home Appliances\n",
      "1   Smartphone         Clothing\n",
      "2   Headphones         Clothing\n",
      "3      Monitor         Clothing\n",
      "4       Laptop  Home Appliances\n",
      "5   Smartphone      Electronics\n",
      "6   Headphones  Home Appliances\n",
      "7      Monitor  Home Appliances\n",
      "8      Monitor  Home Appliances\n",
      "9   Smartphone         Clothing\n"
     ]
    }
   ],
   "source": [
    "# Display 10 Categories by the number of product \n",
    "category_by_Product = python_project[python['Product Category'].isin(category)]\n",
    "print(category_by_Product[['Product Name','Product Category']].head(10))\n"
   ]
  },
  {
   "cell_type": "code",
   "execution_count": 128,
   "id": "72794828-b1c4-42bb-badd-690db2e8adc1",
   "metadata": {},
   "outputs": [
    {
     "name": "stdout",
     "output_type": "stream",
     "text": [
      "     Product Name   Price\n",
      "7403      Monitor  499.97\n",
      "2091   Smartphone  499.86\n",
      "3421       Laptop  499.84\n",
      "3842       Laptop  499.77\n",
      "8590   Smartphone  499.77\n",
      "8725   Headphones  499.74\n",
      "6040   Smartphone  499.71\n",
      "1436       Laptop  499.66\n",
      "3899      Monitor  499.64\n",
      "4079   Headphones  499.63\n"
     ]
    }
   ],
   "source": [
    " # Find the top 10 most expensive products.\n",
    "Most_Expensive_Products = python.sort_values(by='Price',ascending=False).head(10)\n",
    "print(Most_Expensive_Products[['Product Name','Price']])"
   ]
  },
  {
   "cell_type": "code",
   "execution_count": 179,
   "id": "1d0d2d02-60e4-42f0-ae67-b5af77fc2b02",
   "metadata": {},
   "outputs": [
    {
     "data": {
      "image/png": "[encoded data removed]",
      "text/plain": [
       "<Figure size 800x300 with 1 Axes>"
      ]
     },
     "metadata": {},
     "output_type": "display_data"
    }
   ],
   "source": [
    "# Visualize the distribution of product prices using histograms.\n",
    "import matplotlib.pyplot as plt \n",
    "plt.figure(figsize=(8, 3))\n",
    "plt.hist(python['Price'], color='blue', edgecolor='black')\n",
    "plt.title('Distribution of Product')\n",
    "plt.xlabel('Price')\n",
    "plt.ylabel('Frequency')\n",
    "plt.show()"
   ]
  },
  {
   "cell_type": "code",
   "execution_count": 171,
   "id": "8c5eb49b-9de9-46c1-813a-6fd7aca2716a",
   "metadata": {},
   "outputs": [
    {
     "name": "stdout",
     "output_type": "stream",
     "text": [
      "Product Category\n",
      "Clothing           251.790928\n",
      "Electronics        253.427581\n",
      "Home Appliances    258.839770\n",
      "Name: Price, dtype: float64\n"
     ]
    }
   ],
   "source": [
    "# Compare average prices across different categories\n",
    "Average_Price = python.groupby('Product Category')['Price'].mean()\n",
    "print(Average_Price)"
   ]
  },
  {
   "cell_type": "markdown",
   "id": "7cdfc398-1261-4af2-8ebe-2b00186060db",
   "metadata": {},
   "source": [
    "# Short Report\n",
    "- The Category Products that are mostly patronized or bought by customers are just three\n",
    "which are Electronics, Clothing, and Home Appliances\n",
    "- The highest seller from the above categories is the Electronics, which is also the most expensive"
   ]
  },
  {
   "cell_type": "code",
   "execution_count": null,
   "id": "4c35d5f9-fe99-4f59-a90c-c890366d3826",
   "metadata": {},
   "outputs": [],
   "source": []
  }
 ],
 "metadata": {
  "kernelspec": {
   "display_name": "Python [conda env:base] *",
   "language": "python",
   "name": "conda-base-py"
  },
  "language_info": {
   "codemirror_mode": {
    "name": "ipython",
    "version": 3
   },
   "file_extension": ".py",
   "mimetype": "text/x-python",
   "name": "python",
   "nbconvert_exporter": "python",
   "pygments_lexer": "ipython3",
   "version": "3.12.7"
  }
 },
 "nbformat": 4,
 "nbformat_minor": 5
}
